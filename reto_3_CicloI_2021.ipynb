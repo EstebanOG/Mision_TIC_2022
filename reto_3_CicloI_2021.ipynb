{
  "nbformat": 4,
  "nbformat_minor": 0,
  "metadata": {
    "colab": {
      "name": "reto#3-CicloI-2021.ipynb",
      "provenance": [],
      "toc_visible": true,
      "authorship_tag": "ABX9TyP+zzNYZY+Rz5p7deb6O39E",
      "include_colab_link": true
    },
    "kernelspec": {
      "name": "python3",
      "display_name": "Python 3"
    },
    "language_info": {
      "name": "python"
    }
  },
  "cells": [
    {
      "cell_type": "markdown",
      "metadata": {
        "id": "view-in-github",
        "colab_type": "text"
      },
      "source": [
        "<a href=\"https://colab.research.google.com/github/EstebanOG/Mision_TIC_2022/blob/master/reto_3_CicloI_2021.ipynb\" target=\"_parent\"><img src=\"https://colab.research.google.com/assets/colab-badge.svg\" alt=\"Open In Colab\"/></a>"
      ]
    },
    {
      "cell_type": "markdown",
      "metadata": {
        "id": "o0ZbEk9rE2JA"
      },
      "source": [
        "# Enunciado\n",
        "\n",
        "<p align='justify'>\n",
        "El ministerio de salud continua con su piloto en el programa de abuso del alcohol. Finalmente, el equipo científico de este piloto selecciono el tratamiento natural.\n",
        "</p>\n",
        "\n",
        "<p align='justify'>\n",
        "Con el objetivo de aprobar este tratamiento, el responsable del equipo científico toma la decisión de validar la selección utilizando otro servicio informático del centro de investigación en abuso de alcohol. Este servicio toma como entrada la información de los potenciales pacientes, la secuencia de letras que identifican las categorías del tratamiento natural (“<b>Q S D F G H J</b>”) y retorna una secuencia de estas letras, donde cada letra es la categoría para uno de los potenciales pacientes ingresados al servicio informático del centro.\n",
        "</p>\n",
        "<p align='justify'>\n",
        "Pero para tomar una buena decisión, el equipo necesita un programa informático que genere un conjunto de estadísticas a partir de esta secuencia. La estadística se debe calcular de la siguiente manera: contar el número de personas <b>seguidas</b> que tienen la misma letra. Entonces, la salida del programa es este conjunto de conteos separados por un espacio según el orden de aparición de cada categoría. Además, el programa debe imprimir las letras de las categorías.\n",
        "</p>\n",
        "<p align='justify'>\n",
        "El responsable general del piloto lo contrata nuevamente para implementar este programa.\n",
        "</p>\n",
        " \n",
        "\n",
        "**Entrada**\n",
        "<p align='justify'>\n",
        "Una lista de letras separadas por un espacio que representa el resultado del servicio informático del centro de investigación.\n",
        "</p>\n",
        "\n",
        "**Salida**\n",
        "<p align='justify'>\n",
        "Dos líneas, una primera donde se imprima la lista de categorías en el orden que aparecieron en el resultado del servicio informático separadas por un espacio; y una segunda línea, donde imprima la lista con el conjunto de estadísticas.\n",
        "</p>\n",
        "\n"
      ]
    },
    {
      "cell_type": "markdown",
      "metadata": {
        "id": "W_tTSHURFecJ"
      },
      "source": [
        "# Ejemplos\n",
        "\n",
        "<center>\n",
        "\n",
        "![examples_reto3.PNG](data:image/png;base64,iVBORw0KGgoAAAANSUhEUgAAAnsAAAF/CAYAAAAxTQ8cAAAAAXNSR0IArs4c6QAAAARnQU1BAACxjwv8YQUAAAAJcEhZcwAADsMAAA7DAcdvqGQAACtpSURBVHhe7d1Jjtw4wzbau5UaeFDAtymjBh79e3gnHtg7KSCXYsPLKMBeRFyKUkQqFOxERWTDPAcgYFsdO1FPKtKZ/98JAIBhCXsAAAMT9gAABibsAQAMTNgDABhYMuz93//9n6IoiqIoivLOSko27AGM6H//+9/yJ4CxCHsAgbAHjErYAwiEPWBUwh5AIOwBoxL2AAJhDxiVsAcQCHvAqDrC3q/T109/n/66KV9O//437/cm/Pd0+vwW6wW8Sc9h78/p33+269vfp68/ls0VP78tx3z7Ff/+++nL/Pd/nk6/478kWK+AB3q9sPfj+3zcsiDencUT2GEOe7n1TdgD3q9DYa918UvZLoh3Z/EEdpjC3iWYbdeN8MVpb9hrYr0CHuj+Ye9q0Vp/lXxexAofkayP/bH8OS6YqWO+n35Op7u4/or869Pt4nlZhC/FwgrMimFv7fypxKp8fvqzbGx9s2e9Al7OobB3Vc4L2SWwJUrcpyXsrUpcMCvXzJxzLucFMrfPNjQCH1H8GHe7BiU+en0OhNfl/MVvPexZr4CX9dCwd/5q93lxfF6okh91rBfa9b9vXfZbFsbLV9rPX/nWv0J/bkfrxzPAuC7/QSPx5q60Hm3XsmrYs14BL+xQ2EsuOtsglvm3cti7XfAu+1+Veb/br5wn53o+n+t5Qb0uFk/gEvbONqHv8lHt+ovSdWkMe9Yr4KW9i7C3XvTiNTf7NZ1rtXDPi7avlIFnN2EvWn2cGsPZ87pxDmvb9acW9qxXwEt7F2HvvO/lK+vNxyDPYfD5uO2/Xf5+vt7lWhZP4Pk/aFyvB6uwN60dl3Xj/C0pm+1BLexZr4CXdijsbUtchFKBLfFvz4tb5djgsnjelGW/1UKY22d7vXWxeALnsJdaI6ZyvUYlSmPYs14BL+3Vwt72f5uVwt71NcNX1MVrLP9+/tEtl33W15v+zcciwLP4Me7VOrJeL5adgnUQmz5t2Ia7atibWK+AF9QR9gDGk/6ePYD3T9gDCIQ9YFTCHkAg7AGjEvYAAmEPGJWwBxAIe8CohD2AQNgDRiXsAQTCHjAqYQ8gEPaAUQl7AIGwB4xK2AMIhD1gVMIeQCDsAaMS9gACYQ8YlbAHEAh7wKiEPYBA2ANGJewBBMIeMCphDyAQ9oBRCXsAgbAHjErYAwiEPWBUwh5AIOwBoxL2AAJhDxiVsAcQCHvAqHaHvWlBVBRFURRFUd5H8WYPIJgWRIARCXsAgbAHjErYAwiEPWBUwh5AIOwBoxL2AAJhDxiVsAcQCHvAqA6FvZ/f/j799WlV/nk6/V62Vf33dPq8PjaUrz+WbQ2OXPv305frYz99P/1ctmXF+qb3i+druX5Xm/+c/v3n+pi5NNT5x/fEcX+fPj/9WXao6+qrs4NjfHvtUL79WraW/Dp93R736cvp3/+WzVnpvm6qc6qvS3MiOTb1vn3xe+7IvJ/amNke21EYy2l7ep7OY5uvd//9sg17XX19oM1n/evT+pilNN0vs0P3+u57J71/dW06sIYm94vnK6wNd+hXeAs6w97yMN1M+HlxrD9U50Vls9/5pqreREeuvSwwm8X4vMgVF41Yv86HXtDf5vRC1VTn5INn6b/qg+tAXwX97Z2krx3rXqv3EqJS/VUf38TDJpyv9gCa5952bkxtKDwsC6Eg7ZXuuSPz/kDwmbYfCXup8a/N2+ewd6CvD7T50D2XHKflfNXQduC6k657Jz1OJd1zuHSteHxhTA/1K7wdHWFvmeiZmysuaLUHQO7mWm7c/AJw7Nql7fNCUrh5kzf9LB774DYnt8fzFuqcffDM5yyFmEN9dai9LQ/FjHjuwsKdVQsQedWxz8mOTcor3nNH531me22Mp+33DHtR7If8vJ3D3h36+kCbc8ceWZ8eet3ue6cwTilH5nDpWrU140C/wluyP+w13Rz57U0LT277oWvXFqXK9sJNX3voHWpzcVGsLJiFB09x28G+eugYF9Sum9Md2LofdEGx/zcOzft7jEffvD8afO4e9ir3Swx7B/u6v83H7rnSOBW3Hbxu/71TWbs2Ds3h0rWaxrunX+Ft2R/2qg+p/sU2Kp3/yLUbbsz8AyYoHF9e8A62uXJ8sc6l8x5cxPLXffQY5zRcN6PYhyVHFvs97azuW2r7wfHonvdB4bzlh3NpTI6EvfJYx7B3qK+D3jYfuueC4vFTn2UCzcHrFutUtOd+PTiHS8fH9neGvVK/whuzO+zVv5Kbb6y+hTqYbtreh0vp2oXzntUX47A9V7L1Otbm2kJXrHNpASwtcof66g5jvDlv/LdLX+fqlVp457qcj03PyVT/zv92ueae/o1tOx9beBBc7beUzHVe857rn/dBqo3rkuvXIM6v1DFLyben/36Zwt6xvg5621wag0V9fSrdG5k+OXTdA/fOdr9YcvfLwTmcvNa6FO7T3n6FN+ZhYS99AzTetJnzH7p246KWXcQLN325XsfaXO7PSp1L5y0tYof66oFjfGDhzdd37t9cH8b6dD2gp/pUwl52zK+95j3XP++DwnnzAWLWP7/675c9YS97/d42F+fSrFT3+r2RmYuHrnvg3qn145WDc7h0rdhvR8Je4Vh4Q3aHvbabI7+9uOAFxe2Hrl1bMCrbCzd97QFxqM3FRbFS58ICWK7zsb46PsaZxbW0LZjOm3vwlLaVHkrlB9bUD6X5VpirxYfTxqF5/7jxqM37Uhtb6pQer9rc7L9fhv2evalO2fvm2HX77509Ye/gHH5U2Cv2K7wt+8PecuPkbqx409UeALmbK95YpQXg2LVL2+PCVLpxCzd900PvYJtT2/sftrUF/mBf3aG9yQd9aeGdFBbfqT25sDefN13f8gNr6afk9qmPCw+R7NikvOI9V+jz/vlX6rdZfrxqc7f/folh7x59faDNuWOr91x2nAr30+L4dXvunfw4JR2Zw6VrFeofHehXeEs6wl6w3FzbGzkuGqWFYTHvt7nBlnNWb55D154fFNuFbV7QCjf8JHvT1x8ik/42pxeqpvamHjyt/Xykr4JHjHFpDM6S1w2mfy9dd27XbT+XH1iTdD/dN+wFmT5pmgdB93gU+rw6799Q2GvppznsBUf6+kCb778+LecrXnNy4LpB372zM+wFc/93zOG7h73WfoW3oy/sRfMNdP2NrlOpLIZn8Su12+OrQSA6du150diWnsV0Vn3onXW1Od3Wpn5KXq9xfBZdfXX2gDFuejikrtsyPsuD4/rY/jlVbOdUx5Y6XXmFe+7IvC+0sRZ8pu3perWFvV1tXFzCXtTZ1wfafNZ1zyXnbuN9uui67tnue2fu3z1hL+qZw6VrxXoX2niHfoW34EDYS3teMDpuiPWN1fFV05Frn786ncruBeiIg21+DYf66h229617zXtuJNdhL+1QXx/wWuvTq62Le5jDUHX3sAfwHrWEPYD3SNgDCIQ9YFTCHkAg7AGjEvYAAmEPGJWwBxAIe8CohD2AQNgDRiXsAQTCHjAqYQ8gEPaAUQl7AIGwB4xK2AMIhD1gVB1h78Dv51z/Wpt18StugFcm7AGj6g5729+TeP4disXfnxjD3jYUnsNjQ1gEeBBhDxjV3cJe9ON7ObQlw94s/oJxb/iAVyLsAaO6b9grbgsKYa+4DeDBhD1gVHcOe/Mbus9Pf5a/bRQD3a/T109fTv/+t/wV4AUJe8CoHhL2sh/HVsNe4a0gwAMJe8CovNkDCIQ9YFR3DnuVt3OlsFf7zx0ADyTsAaO6a9iLP37ln6fT7+XvN7Jhbz5n9o0gwIMJe8Co7hb24vfq1d7MJcPe/DbQj10BXpOwB4yqO+xtfwtG01u5GPa2x/o+PeD1CXvAqDrCHsB4hD1gVMIeQCDsAaMS9gACYQ8YlbAHEAh7wKiEPYBA2ANGJewBBKmwF392aPNPDCj9wPm0eP6GHzs1/2ir9p9gsHf/tce0eftTHGo/QH/5kVznUvr5rdHe88PHIuwBBLdh7xw46sFnDkhz0GgKe+sfQ1ULez++X/9oq9pvG9q7/5XHtHnad71PPLYU4EKd1/sXf+f6JPTn11Wbq+eHD0bYAwi2YS/+nu9vITjVgs8lTLW+5Xr+tZIxlOz+gfJ73yC27/+4Nm9NfdD69jDYFViDGKZ3nB8GJ+wBBFdhbwoX05uhXaFhf/B5U2Hvhdo86wh7e97UxTbsCIcwOGEPIHgOe6sg8hbD3t63Vk37v1ybo11v6vZfI76h9LvW4ULYAwjOYe8qKLy5sDd/BNweZNr2f8k2z+evHzPVaf6ewLa6xL6M+3eETxicsAcQTGHvJny9pbC3hKTmoNe4/4u2Ob7R2xvG5mvs+Rh3Doo+xoUzYQ8g+N///l98C3Z+O7Qt9ZD1wLAXQ1JrAAua95/f/KXaO5V7tnl+89YbwPb3rY9y4ZmwBxBs/zdu9Bbe7MU67P2fqAfeaj2izXv/g8UNYQ+OEPYAgrca9vaGlsMh5+5t7glq12E19lMhLP5++n5d313/AQTGJ+wBBG857KU+Ys2Fn73733hQ2EvWKdP2+SPf1X61ui/fC/hcBD1YE/YAgmTYAxiAsAcQCHvAqIQ9gEDYA0Yl7AEEwh4wKmEPIBD2gFEJewCBsAeMStgDCIQ9YFTCHkAg7AGjEvYAAmEPGJWwBxAIe8CohD2AQNgDRiXsAQTCHjAqYQ8gEPaAUQl7AIGwB4xK2AMIhD1gVMIeQCDsAaMS9gACYQ8YlbAHEAh7wKiEPYBA2ANGJewBBMIeMCphDyAQ9oBR7Q5704KoKIqiKIqivI/izR5AMC2IACMS9gACYQ8YlbAHEAh7wKiEPYBA2ANGJewBBMIeMCphDyAQ9oBRdYS9P6d///n79Nen6/L56c+809aP7zf7/vXp++nnsvnavnP//Jbb9uv0NRz39cfy1xvzdZLb/3s6ff705fTvf8vfM/LXXonnyrX12Uuea9q+7d+/Gto7Xz9x7Ldfyw4FyTnQ0OaV309fbs/Rcu1lLlwf29DezFzMz6mVVHv/eTr9Xjbn3dZ1Tx/djG3TNReJ8W1qa6KfynV+9P6LjjGYw1563LPXnK6TOW8cj9ocrd3XR+67s1eYjzdzsXedKNUztX8orXWEj6Q77LU9CILCYnhr37nzwUbYy0luXxbNYh2S1z8/GCv1Ss6B5UFSnRvLNVLH145d2rUd5yk4FufY8oBN9VNtnKb+ve2PqQ0NfXRT19Y+WvbbPFDnutTn8hykN/stfVB+SM/Xve6T8G/ZYx69/6x3DNZhrzg/1pJzexbrUalr9b4+ct8FLz8fl7pdtTv827fyHO6qZ7LvW+oIH4+wtxUX1w8W9ia1dheuP52z+FDLzoF5HGr1rT4wUxrH8VZt7uTF0NTzkIl1zV1zrk++j+Y+zPVR7L9SneJDPdNPxXoF8dj6nLx49P5B9xgE7yfszWrnf5X5GI/dd9911zPb9/V1BT4aYW+rcbHKX3ultpAvXvJcpe3FY0vXr9WtNAdK2xrHImVqS09I7A8LjwuJxe21Pqpsr/VTcfve8Xn0/gfGYPLewl752Feaj7uve2DMetcV+ICEva3GB0z+2iu1hXzxkucqbY+LePHBXnqwFPqsGugy5+1esHfO0ZWmsUhpHJ+U6jUP9VGpLxr6qXL+qe6pj8pzHrr/gTGYvLuwV7rvXms+BnEdCWPWdB8dGbPedQU+oO6wN93Mz6XyoL/aN5TsArjv3OcHQa7kF+zUddblA4e9rsWzEq6ri3K6v1Ph8/wgmUupPttzznU8H5vug9SDfjNXcnM31caruZ+bU/P5i+Nf66Nc30al81fGbRLbUJl3l3bW75voUftP+3WNwSz/HzQKx12dP1EeHvYy49fdF8fm40XcZ75WdX71jlnq2LOWOsIH4s3eVuMiMWzYyz2citdPhauV6qKcPu+jwme+D8oPumL/xAdUT/+0Plw7+igq3VO1+yTYcf/GuoTzFduycvf9u8dgNtSbvVeajzdiPQr9cGTMCn2/q47wAQh7W3GRKD8UJrVQFTUuOC95rvz2yiJfun5xwQ4Kc6AYVkrXrPRHqR9K22J9Mg+m0rbyg6n80Cr2QVDvo8J8rWyf+qIUSGrbb9TmwtZd9+8fg8m7C3sP6otD8zGlOAcPjFmh73fXEQYn7G3VHp5RJRidFRfjs5c9V7bPaufPPnQa6p+dA23jlDx37SFZaE9+3gSF8Y8PkK5gVHloxWvm+mHuo3z/zn2Uq1esU+n+i/2UqVuxXhm1cdm68/7dYxC8Sth74H33OvMxpXy97np2ryvw8Qh7W3GhKz8UWh9Q+fqtvPC5UueJIaarzXM/Nz3QtnMgnq+1TYlrNLY11a5aX879cTs/amHv0h83873y0ArS12zs30wfze1vm1s3/dQyPmFct9vjuXL1ffT+Uf8YvEbYm/Yp9nFynjfOiwN90T0fp/putsdzZfpo1lnPI+sKfDDC3lZcLDILzNSWaVEqLpTzuYvfpzJ58XPN4gMo7rsq1YdGsCyi18fWrxdd6rcu9RDybNUPq9I0T1LXbpmPyfa21TnVx00Pn+Q1Q2kZn0wfNfdzcoxagsjmmFJdH73/Ss8YvFzYa7yvJ8k50XjfLV52Pi7BbV0a1//d9Ty8rsDH0RH2gJezeng2f9H07PkBui8gROuHfWPIes/msEfZsfkIvA5hDyAQ9oBRCXsAgbAHjErYAwiEPWBUwh5AIOwBoxL2AAJhDxiVsAcQCHvAqIQ9gEDYA0Yl7AEEwh4wKmEPIBD2gFEJewCBsAeM6lDYO/+y7KvS9GuVEr8/senXOe3/Hamp37fYdK2u3wu56Pk9o9HB328KdBP2gFF1hr0llNz8bsQQ4mq/L3EJQtuANgXH4i8fX8LXTWAK5yuFqCnspY6Z6lAMX/F625B1DmOV8DWdP9U3U3Ar9s98/lTfpPoMuB9hDxhVV9iLb8t6fjF6DFAdv5B9CUo9YScZ9ia1uiTD3qza/mTYm8xhLh8y02EvigHVGz54FGEPGNX+sNcd2PpDYnyzVXtjmJENe0FpWynsFbdNsmEvKG0rhb3iNuAoYQ8Y1f6wVwwrJf1hpRjKKkrHxhCZC5/FQDe9aSwE3lIfFc9b7qMj/QCUCXvAqHaHvVRAOn9PWfk/E6QC0vJ9bEtJB5lUAJr/7XLNwtvCatjrCmWVj5WrYS8XFOthr+fNKFAn7AGj6gt7DwhI+VA2B6Cut3OBN3tAC2EPGNXusFcMK8UgUw4rvaGsP+yVQ2SxLVOYK7SzFPaKYbkY9ipvE4FDhD1gVPvDXikkVcJeKSQV31rF86bfpHWHvVpgy7alEhIn2bBXC2z5sFcOicBRwh4wqo6wF8QglPj+sVrYC6bwlfqhxsWwF8SwkwhKPWFvPlfhY9hJsi1zWCtdL0qFvaXPiiExE/bmPiv3K3CMsAeMqi/sRXMwufwniaU0fcwY36ptjm15a3UOmVelJVxuSi2sTZLXqgTEs1T7msJauk/LARG4B2EPGNWBsAcwDmEPGJWwBxAIe8CohD2AQNgDRiXsAQTCHjAqYQ8gEPaAUQl7AME57J1/zNO5VH/CwPZ/7lf/t//yI5zWpfjTCLb/S3/Pj2Fajq38tIPdbd78xIF9PzGg8UdYXezdH9gS9gCCOeyFcPRtFYxikCv9yKUpTK3D1xyuyuFnCi87Aluow9fV+WIwa/0B6+dQVguTu9o8/Uirdf3nMNb0Y7eCS7BsDG979wduCXsAQfpj3JbwtpH6oeprMUzteTu30RDGZlMI+3L6+m1HOIz2tzn+PNOWMLa0/euj9geShD2AoBT2Wt9aRS8S9urHn3970K43gdH+Nqd+U9Gt5/O2hcO9+wM5wh5AkAx7teCWUA0mMayFfS5lX/BrClareu8Oe3vb3Bg+Yz2WfmkJb3v3B/KEPYDgEvbWYWxnwJi/v2x/eKsdM593rlP9jdv88e35Y96msLe7zct/mphKSzDcBMK2QLxjf6BI2AMIsm/2mgJWW2hL2/cfHMrXuf0Itinsre1oc7QExfzbxuvwOSmHt737AzXCHkCQ/p69oPqx5hyw+sPIHb9Hbglq6dLynzoWd/wod/1W8rbcHrN3f6BO2AMIesNeNng12/dmb7Lnmrvf7E3uGPZS9r6p82YPjhH2AIIY9kJoWf9Mu2oQ2xlyJr+fvt9+RFkIVtv957d37deshr29bZ62XwWv+c3knsAr7MHLEvYAgvnN3hx01h8dFt+4xbB3vX/tuJuPKWsh5uaj2b3hsvZmb2ebzx9br/bf+2ZT2IOXJewBBNmPcQHeOWEPIBD2gFEJewCBsAeMStgDCIQ9YFTCHkAg7AGjEvYAAmEPGJWwBxAIe8CohD2AQNgDRiXsAQTCHjAqYQ8gEPaAUQl7AIGwB4xK2AMIhD1gVMIeQCDsAaMS9gACYQ8YlbAHEAh7wKiEPYBA2ANGJewBBMIeMCphDyAQ9oBRCXsAgbAHjErYAwiEPWBUwh5AIOwBo9od9qYFUVEURVEURXkfxZs9gGBaEAFGJOwBBMIeMCphDyAQ9oBRCXsAgbAHjErYAwiEPWBUwh5AIOwBo+oIe39O//7z9+mvT9vy/fRz3i3vv6fT55vjQvn2a9kh7+e3xHGfvpz+/W/ZIStd389Pf5bt15LXydUv2Z58nXade3Jz/v72fv2xbE7o7tsD43mROEeprtHh6859VL1OcNM3/zydfi/bimIdG+4J3ow57N17fSvdR7fXyq1LV358vzomltK8TO0fStO1Fr+fvmyOf+x6HzXfQ79OXzfXaG6b+5QPojvsbR+U58Wg+ABN3ljnBa98w00P3ZsbeFnEyjd2+4N9krxOzs6FYte5Y9s2D4rwb/X+TfdT6brdfXtgPCfznNm0cWlDPQT3X7dtTiwPkE095vDXGoTb5wavbx327re+5czz6/r+Cv9WCULz/EvN/cJ1p3v5Jgwu87v6xctyX232e/R6H7X057JOXdejtW2B+5QP4m5hL4o3XuHGKdxYcRErLHTZoBTPWf/qubgorWSvk7Jzodhz7lp/3JoXuNZ2rnX37YHxnOdK5tzxvIW2HLluVJsTywMpc554jdqDZOfc4PWVwl50YH27UTtXQgxYLQFma7pW8ri5raU1qTTX58DX1x9N92mtP+P23H2cCtMJ7lM+iPuGvdpDtHRjVW66aXHI3bilbdU6bZTPtbFzodhz7r0Le/eDIOju24PjWVrsi9sPXHfWMk9rIbfydq+pHrwl1bB3ZH3baplDV/q/mMuHvaC0rXrNyvZSf7T0VWWf2prXtCbuGTN4x+4c9g6Eg7hw5Be/0nnjTZ0NDu8z7J0X0tav/ved+1p333aPZ8OYlB5CB+bRrHL94gNw0lB/D5F3px72KvdZx3pQ/Sj07Mh86r2XGq7Z3x8N92nl+tU1r6XPWvaBATwk7PWHg75FtvwV3FzfaVF9LuVQeb1vYTGO7dnsXwgJu869uByzO3xs2l15i9bVt93jWR7raHpA5c59YB7NynO4/kZgPv7wg4Y3pTXslde31T03leI8CuI8n/atBJ9UYLscWzm+GvYyx5buwUW9Pw7cp8XjW+/BY4ESRuHN3kax/ls7F4pd574ytyG/oJcXvnL/HOjb7vFsDHvdIbOywFfmRGvY639Q8Ra99Ju9tTjnwj2RPXcxeFXmfO+91Bj2+vqj4T4tHl9e86KW8TgwZvCe3DnsVR7iBxaW/KJSu+kbHswruwLZzoVi17kTpuNzwasUyvrDXqVvD45nrU5dIbPhAVWdE/H8hQdRbftk59zg9dXD3oH1rUVx7pbCUX/YK39hU2nvA9f7qNKftS/Katsj9ykfxF3DXvXmyt5YlVARZANJddGoPNg38sEnYedCsevcCcXQFuuSXvCLxwXdfXtgPOdzZx5Q8bw9D5GG60a1h9h8nlyfxSBae4i0PMx4U2phr399a1Q5Ps675JzsDXu1+6A812N/lNp79D5tWn9y9Z/bdvgaMIi7hb24KNRumuTNP9+UpTAySQWSebEpLHJRfvFOSV0na+fivufcP79t21VfmOf+uN2nJ+w19e2B8ZzMc2ZzjWUBL/bTwevmH34rSz2255vrXB/zXfOIN6EU9prGfc96EObgdn7EaxTn7zLHb+bu9O87w17LfRalr/lS60Otfuk1777XgBF0h73nbwyeS9MNc36AXpXKgrGYF9tNaXmwv9Owd17E1qWpDck+Ltexu28PjOdF/Mp6e45KP3Ve97lPW8csPdfzx6/2b5qbvCXrsLcd8/b1rXFupeZw45xJ3a/F+iXvsfZ1a5JcI5rC3s5jeu6h5HVKx7tP+Xg6wh482HrxfoOL8fODb2ew5U2bwx6t1l+Qtn4x/XKWt3tTqb3Fhw9A2AMIhD1gVMIeQCDsAaMS9gACYQ8YlbAHEAh7wKiEPYBA2ANGJewBBMIeMCphDyAQ9oBRCXsAgbAHjErYAwiEPWBUwh5AIOwBoxL2AAJhDxiVsAcQCHvAqIQ9gEDYA0Yl7AEEwh4wKmEPIBD2gFEJewCBsAeMStgDCIQ9YFTCHkAg7AGjEvYAAmEPGJWwBxAIe8CohD2AQNgDRiXsAQTCHjAqYQ8gEPaAUQl7AIGwB4xK2AMIhD1gVMIeQCDsAaMS9gCCc9j7/fTl9Nenvy/l64/4z21+fN91TLzWt1/L3xpM5//n6fR7+WvOz2/P9f/r05fTv/8tG6p+nb7u2v/P6d9/9vXR3jY/qo/gIxH2AII57IXw8m0VFP57On1uDj9z8GkKe/G8SxhrCjJTCFv2rwWZEHY+P/1Z/hLEAPr99HP5a85zQGxr7zoUN4W9vW1+ZB/BByPsAQTpj3HnAHcVnjLmN1DfY+Aoh585lEz7tL21WtWh661V/e1brEc8b+ObvUuArJ97trfNL91HMDZhDyAohb1qmIlvoabw8xxSWrQFmZUHhb1njWHvYs+5Z3vb/DJ9BGMT9gCCZNhrCg7rwPMGw96uj6KFPRiRsAcQXMLezu8Vuw4jby3szfVp+Rh6JuzBiIQ9gCD7Zq8U3m6CxRsKe0tobQ96E2EPRiTsAQTp79kLsuFhDjrxDWCqNASUhwWZab9doe1M2IMRCXsAwf6wl/IG3uxd/rNID2EPRiTsAQQx7IWg9PXqY8994e0thL3p5+Xt++h2TdiDEQl7AMH8Zm8Oa+uPY/cEmbcS9tb1v5SmACTswYiEPYAg+zEuwDsn7AEEwh4wKmEPIBD2gFEJewCBsAeMStgDCIQ9YFTCHkAg7AGjEvYAAmEPGJWwBxAIe8CohD2AQNgDRiXsAQTCHjAqYQ8gEPaAUQl7AIGwB4xK2AMIhD1gVMIeQCDsAaMS9gACYQ8YlbAHEAh7wKiEPYBA2ANGJewBBMIeMCphDyAQ9oBRCXsAgbAHjErYAwiEPWBUu8PetCAqiqIoiqIo76N4swcQTAsiwIiEPYBA2ANGJewBBMIeMCphDyAQ9oBRCXsAgbAHjErYAwiEPWBUHWHvz+nff/4+ff0x/9uV/55Onz99Of373/L3rbj9++nn8te1309fTn/983T6vfz9xo/v2e0/v/19+uvbr+VvGYVrr03n+vz0Z/lbxp3OFev9aVNy7Zjav903W4d5jLb7t7Xr+pjkOGfctKc0nhtx/NfHNvTvs1+nr1fHNrQ1yI/PfL582w/cA4umeVaY888KdVmrnSs5v9r78fbYeh886x+/9TGxHLh/5rD3+LHdVe+Lnj463pbavDk+9olztKwbDeN5UVivq88dGISwt1FbqKM7navpWmeVRfdaYwBYmcPWZuxiOxv69vwg2uw3L+K1hX+u67Zt5/DXFGJu9lvqU+mvfP9/0LB3s/1APy7j0tTGu49fQkNfvmTYa673pLuPjrel1m+Hxv7chp51o2E8LwrrtbDHRyHsbTQtxHc6V9O1zvYsbq0B4Cwuzplxi20tnWu+Vq7/49gU6l3aPge+Qj8X6zY/SPr6fz621uaue2DRNPZNY9441rVzZbfP5+/qx1pfPGz8Ehr68k2GvUN9dLwttX7rHvulbr3rRtu9sYh1Efb42IS9jaaF+E7narrW2Z7FrTRGCbX+K25vGvPc9lqoKm+vzZna9nz/C3tXKseW2lLa9rjxS2joy7cY9o710fG2PGrsj60bQcN4XsRzCXt8bMLeRtNCfKdzNV3rbM/i1hoAooZ9S9eu1qs2X8r9WOqjav9Vzp8/Xti70t2Py31deHvzmPFLaOjLtxj2jvXR8bbU+q1Uv9LY18ejMq8bxvOi0EfCHh9Fd9ibvicjXWphL3XMUko33XRzp445l3ca9rbtKC5um33zbU6NUW5casEmiNfuXSznuiT7oXDes9hHyXYWzntWeaCl+n9d8n1y4B5YNM2zpgfaXJfi+E1q5yptb+jHXFvy8+Mx43fk/lmHvZt9L+X42LbX+2gfHW9Lbd70jf3BdWPSMJ4XsY82+65LsR4wBm/2NmoLdXSnczVd66yy6F4rjNGNxrCXuXbrop08f1yw62Ev3UeVh8GkMk75c3uzd6W7H5f5cSis9133RkNfvr03e0f76Hhbav3WN/YH141J072xKPRRvR4wBmFvo2khvtO52hf9YM/iVlsoN2r9V9zeNOa57bVQVd5emzO17fn+F/bW+vtxrluunY8bv4SGvvQ9ewmVfusd+2PrRtB0byziuYQ9PraPE/am46sBrbJAnd3pXPd+WD0rjFFKbE9m3OKYlc41XyvX/3FsCvUubY9zotTPxbrNga2v/x8d9trmWduDqFbXWf/9VT9/th9r98nDxi+h4f65T9irj+2ueh/qo6Ntqc+b7rFf6ta7brSM50Vsa7oubfcYvH8fJuw1LbCF+q3d61xN5znbs7iVxigj9uF27GIbWtt6OwbzOWv9OT+wtm2L86H1YXTzMFzO2T0nagHn4EO0aZ41jmHTvGg4V+o8jeOf6sfXHb+Ehn66S9hrGNtd9Q76++hgWxrmzZGxP8+vrnVjz3pYGJNY19bzwDs2eNib6xq/Cbe0KE7nnvYpLlD3PNfs3g+rZ/VFOulS9+vSVsdV/1yVWqiZzQv8tjQ8MCbnh8a2FB+Epf5/UNhrmhvLQzyUUr+fA0C5f9vOFSXH/sDYVfr+yt3HL6Hh/jkU9prGdrar3mddfdTZlh3z5vDY964bDeN5Edva+dyBQXSEPT6U9UNm1yI+e34Y1B+CW8+BpiO4rh5YFvP36OXHbw5778m4c/zIugHcEvYAgvcX9gDaCHsAgbAHjErYAwiEPWBUwh5AIOwBoxL2AAJhDxiVsAcQCHvAqIQ9gEDYA0Yl7AEEwh4wKmEPIBD2gFEJewCBsAeMqiPs9f6+xcDvKATeKGEPGJWwBxAIe8CohD2AQNgDRiXsAQTCHjAqYQ8gEPaAUXWHvb8+5Uot7KWOWYqwB7wSYQ8YlTd7AIGwB4xK2AMIhD1gVMIeQCDsAaMS9gACYQ8YlbAHEAh7wKg6wh7AeIQ9YFTCHkAg7AGjEvYAAmEPGJWwBxAIe8CohD2AQNgDRiXsAQTnsBd/MsDq1zgmf/JAzo/vDcf8On1dnX/fTyGYfxpC7Zif31bnL/2EhIS5/ZVj4k9WWF3j269lQ108f3X/pZ2Xa6R/isPakTbD6IQ9gGAOeyFkfFsFqdqPk7ryHFCKYS8EwvX2GFJaw9ISJothL+zz+enP8pcgHlMPS7NzEC21eWrn+nxzu6+umbIOiJX2ToFw3UfVH811qM0wPmEPIEh/jNsYZIL5jVUIcrWwt9UcTKYgFkLQt0rwuTG3oaVOU/D8HNrQHnAXUxuKdZpD5FSHtjd7W3Pb2+vU3mb4CIQ9gKAU9qqh4fID459DTbNqUJrFIBZCZ/Ut143GNpzrsett5qKxDRNhD16esAcQJMNeU4hZB4u9YW9nEAt/3B32msLbKkx1hL09H0V3hb2p/Xs+lu0JrDAwYQ8guIS9GBTavrdsch1e2sLe838maAkk12+19oW9uT61j6HPbw2jnUEp1mdHENsd9pbxaA/QbW2Gj0TYAwiyb/ZKQePmzV9b2Hs2v9nLh7fbN3/NYW8JSbXQcxO+doS9ObTu+48Qu8Jerf+3GtsMH42wBxCkv2cvuAl0Z0tQC+EiWZrfXhU+yl3CTroUAlk8rvWtYercc8mHpqXte97QLVrDXtxvT5BsbjN8PMIeQLA/7KXsfbM3KYS9hOqbvfh2a9/btisNb/auPvbdqSns7erz4GibYXDCHkAQw14IDV+vQsze8Fbf/+e361BSDW8btf2PBLGoFvYOBqt62NsXfieH2wyDE/YAgvnN3u3Hmvve0tXDXgw762vseYMVtIS9q/PvvU5T2EucP5SWvmoNe6nz54473GYYnLAHEGQ/xgV454Q9gEDYA0Yl7AEEwh4wKmEPIBD2gFEJewCBsAeMStgDCIQ9YFTCHkAg7AGjEvYAAmEPGJWwBxAIe8CohD2AQNgDRiXsAQTCHjAqYQ8gEPaAUQl7AIGwB4xK2AMIhD1gVMIeQCDsAaMS9gACYQ8YlbAHEAh7wKiEPYBA2ANGJewBBMIeMCphDyAQ9oBRCXsAgbAHjErYAwiEPWBUwh5AIOwBoxL2AAJhDxiVsAcQCHvAqIQ9gEDYA0Yl7AEEwh4wKmEPIBD2gFEJewCBsAeMStgDCIQ9YFTCHkAg7AGjEvYAAmEPGJWwBxAIe8CohD2AQNgDRiXsAQTCHjAqYQ8gEPaAUQl7AIGwB4xK2AMIhD1gVMIeQCDsAaMS9gACYQ8YlbAHEAh7wKiEPYBA2ANGJewBBMIeMKrdYU9RFEVRFEV5XyUlGfYAABiDsAcAMDBhDwBgYMIeAMDAhD0AgIEJewAAAxP2AAAGJuwBAAzrdPr/AbSXwifsc8jgAAAAAElFTkSuQmCC)\n",
        "\n",
        "</center>"
      ]
    },
    {
      "cell_type": "markdown",
      "metadata": {
        "id": "5FTgWiwBGC7y"
      },
      "source": [
        "# Solución\n"
      ]
    },
    {
      "cell_type": "code",
      "metadata": {
        "colab": {
          "base_uri": "https://localhost:8080/"
        },
        "id": "ENiAasKWC6Kd",
        "outputId": "c352e83d-7451-4d22-ce21-e618a29ecd28"
      },
      "source": [
        "# Function that generates a set of statistics of the data received\n",
        "def generate_statistics(result, categories, statistics):\n",
        "  for elem in result:\n",
        "      if len(categories) == 0:\n",
        "          categories.append(elem)\n",
        "          statistics.append(1)\n",
        "      elif elem != categories[-1]:\n",
        "        categories.append(elem)\n",
        "        statistics.append(1)\n",
        "      else:\n",
        "        statistics[-1]+=1\n",
        "  return categories, statistics\n",
        "# Print outputs\n",
        "def print_result(data_list):\n",
        "  result = ' '.join(data_list)\n",
        "  print(result)  \n",
        "\n",
        "# Main function\n",
        "def main():\n",
        "  # Read input\n",
        "  computer_service_result = input().split(\" \")\n",
        "\n",
        "  # Declaration of varials\n",
        "  categories = []\n",
        "  statistics = []\n",
        "\n",
        "  categories,statistics = generate_statistics(computer_service_result, categories, statistics)\n",
        "\n",
        "  # Convert list items to string\n",
        "  statistics = list(map(str,statistics))\n",
        "  \n",
        "  print_result(categories)\n",
        "  print_result(statistics)\n",
        "\n",
        "main()"
      ],
      "execution_count": 12,
      "outputs": [
        {
          "output_type": "stream",
          "text": [
            "Q Q Q Q H Q D D Q Q G G G G F Q Q H H H D D D\n",
            "Q H Q D Q G F Q H D\n",
            "4 1 1 2 2 4 1 2 3 3\n"
          ],
          "name": "stdout"
        }
      ]
    }
  ]
}