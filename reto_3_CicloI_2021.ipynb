{
  "nbformat": 4,
  "nbformat_minor": 0,
  "metadata": {
    "colab": {
      "name": "reto#3-CicloI-2021.ipynb",
      "provenance": [],
      "authorship_tag": "ABX9TyOCPLDd4IoV6sqAgQY57FVO",
      "include_colab_link": true
    },
    "kernelspec": {
      "name": "python3",
      "display_name": "Python 3"
    },
    "language_info": {
      "name": "python"
    }
  },
  "cells": [
    {
      "cell_type": "markdown",
      "metadata": {
        "id": "view-in-github",
        "colab_type": "text"
      },
      "source": [
        "<a href=\"https://colab.research.google.com/github/EstebanOG/Mision_TIC_2022/blob/master/reto_3_CicloI_2021.ipynb\" target=\"_parent\"><img src=\"https://colab.research.google.com/assets/colab-badge.svg\" alt=\"Open In Colab\"/></a>"
      ]
    },
    {
      "cell_type": "markdown",
      "metadata": {
        "id": "o0ZbEk9rE2JA"
      },
      "source": [
        "# Enunciado\n",
        "\n",
        "<p align='justify'>\n",
        "El ministerio de salud continua con su piloto en el programa de abuso del alcohol. Finalmente, el equipo científico de este piloto selecciono el tratamiento natural.\n",
        "</p>\n",
        "\n",
        "<p align='justify'>\n",
        "Con el objetivo de aprobar este tratamiento, el responsable del equipo científico toma la decisión de validar la selección utilizando otro servicio informático del centro de investigación en abuso de alcohol. Este servicio toma como entrada la información de los potenciales pacientes, la secuencia de letras que identifican las categorías del tratamiento natural (“<b>Q S D F G H J</b>”) y retorna una secuencia de estas letras, donde cada letra es la categoría para uno de los potenciales pacientes ingresados al servicio informático del centro.\n",
        "</p>\n",
        "<p align='justify'>\n",
        "Pero para tomar una buena decisión, el equipo necesita un programa informático que genere un conjunto de estadísticas a partir de esta secuencia. La estadística se debe calcular de la siguiente manera: contar el número de personas <b>seguidas</b> que tienen la misma letra. Entonces, la salida del programa es este conjunto de conteos separados por un espacio según el orden de aparición de cada categoría. Además, el programa debe imprimir las letras de las categorías.\n",
        "</p>\n",
        "<p align='justify'>\n",
        "El responsable general del piloto lo contrata nuevamente para implementar este programa.\n",
        "</p>\n",
        " \n",
        "\n",
        "**Entrada**\n",
        "<p align='justify'>\n",
        "Una lista de letras separadas por un espacio que representa el resultado del servicio informático del centro de investigación.\n",
        "</p>\n",
        "\n",
        "**Salida**\n",
        "<p align='justify'>\n",
        "Dos líneas, una primera donde se imprima la lista de categorías en el orden que aparecieron en el resultado del servicio informático separadas por un espacio; y una segunda línea, donde imprima la lista con el conjunto de estadísticas.\n",
        "</p>\n",
        "\n"
      ]
    },
    {
      "cell_type": "markdown",
      "metadata": {
        "id": "W_tTSHURFecJ"
      },
      "source": [
        "# Ejemplos\n",
        "![examples](https://github.com/EstebanOG/Mision_TIC_2022/blob/master/Images/examples_reto3.PNG?raw=true\")"
      ]
    },
    {
      "cell_type": "markdown",
      "metadata": {
        "id": "5FTgWiwBGC7y"
      },
      "source": [
        "# Solución\n"
      ]
    },
    {
      "cell_type": "code",
      "metadata": {
        "colab": {
          "base_uri": "https://localhost:8080/"
        },
        "id": "ENiAasKWC6Kd",
        "outputId": "c352e83d-7451-4d22-ce21-e618a29ecd28"
      },
      "source": [
        "# Function that generates a set of statistics of the data received\n",
        "def generate_statistics(result, categories, statistics):\n",
        "  for elem in result:\n",
        "      if len(categories) == 0:\n",
        "          categories.append(elem)\n",
        "          statistics.append(1)\n",
        "      elif elem != categories[-1]:\n",
        "        categories.append(elem)\n",
        "        statistics.append(1)\n",
        "      else:\n",
        "        statistics[-1]+=1\n",
        "  return categories, statistics\n",
        "# Print outputs\n",
        "def print_result(data_list):\n",
        "  result = ' '.join(data_list)\n",
        "  print(result)  \n",
        "\n",
        "# Main function\n",
        "def main():\n",
        "  # Read input\n",
        "  computer_service_result = input().split(\" \")\n",
        "\n",
        "  # Declaration of varials\n",
        "  categories = []\n",
        "  statistics = []\n",
        "\n",
        "  categories,statistics = generate_statistics(computer_service_result, categories, statistics)\n",
        "\n",
        "  # Convert list items to string\n",
        "  statistics = list(map(str,statistics))\n",
        "  \n",
        "  print_result(categories)\n",
        "  print_result(statistics)\n",
        "\n",
        "main()"
      ],
      "execution_count": null,
      "outputs": [
        {
          "output_type": "stream",
          "text": [
            "Q Q Q Q H Q D D Q Q G G G G F Q Q H H H D D D\n",
            "Q H Q D Q G F Q H D\n",
            "4 1 1 2 2 4 1 2 3 3\n"
          ],
          "name": "stdout"
        }
      ]
    }
  ]
}