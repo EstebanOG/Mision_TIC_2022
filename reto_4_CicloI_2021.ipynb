{
  "nbformat": 4,
  "nbformat_minor": 0,
  "metadata": {
    "colab": {
      "name": "reto#4-CicloI-2021.ipynb",
      "provenance": [],
      "toc_visible": true,
      "authorship_tag": "ABX9TyPnk1WAhuVwAcqI+bMPvygB",
      "include_colab_link": true
    },
    "kernelspec": {
      "name": "python3",
      "display_name": "Python 3"
    },
    "language_info": {
      "name": "python"
    }
  },
  "cells": [
    {
      "cell_type": "markdown",
      "metadata": {
        "id": "view-in-github",
        "colab_type": "text"
      },
      "source": [
        "<a href=\"https://colab.research.google.com/github/EstebanOG/Mision_TIC_2022/blob/master/reto_4_CicloI_2021.ipynb\" target=\"_parent\"><img src=\"https://colab.research.google.com/assets/colab-badge.svg\" alt=\"Open In Colab\"/></a>"
      ]
    },
    {
      "cell_type": "markdown",
      "metadata": {
        "id": "Sg3dibDY9xF9"
      },
      "source": [
        "#Enunciado\n",
        "<p align='justify'>\n",
        "El ministerio de salud continua con su piloto en el programa de abuso del alcohol. Finalmente, la dirección de este piloto validó el uso del tratamiento natural.</p>\n",
        "\n",
        "<p align='justify'>\n",
        "Con el objetivo de terminar la aprobación de este tratamiento, el responsable financiero del proyecto necesita tener una primera estimación unitaria (independiente de la cantidad de pacientes) del costo del uso de este tratamiento. Para esto, el centro de investigación en obesidad tiene un catalogo donde tiene el costo por persona de una categoría de un tratamiento.\n",
        "</p>\n",
        "\n",
        "<p align='justify'>\n",
        "El responsable financiero decide construir una primera versión de un programa que reciba una lista de categorías de un tratamiento <b>X</b> (no necesariamente las del tratamiento natural, dado que él conoce que se puede reutilizar). Para esto, él decide contratarlo, en tanto que programador de computadores para construir este programa que reciba como entradas un diccionario que representa el catálogo, donde cada pareja se compone de la letra que representa la categoría y el valor representa el costo por persona, y una lista de categorías por las cuales se requiere saber la suma de los costos por persona. El programa debe tener en cuenta el caso donde la categoría no esta propuesta por el centro de investigación.\n",
        "</p>\n",
        " \n",
        "**Entrada**\n",
        "<p align='justify'>\n",
        "Dos entradas: (1) un diccionario (en formato JSON) que tiene las parejas categoria:costo_por_persona de todos de las categorías de los tratamientos que tiene el centro de investigación; y (2) en otra línea, la lista de categorías (representados por una letra) asociadas a un tratamiento (separados por espacios).</p>\n",
        "\n",
        "**Salida**\n",
        "<p align='justify'>\n",
        "Dos salidas: (1) la suma total de los costos por personas de lista de categorías; y (2) en otra línea, una lista de las categorías del tratamiento que el centro de investigación ofrece.</p>"
      ]
    },
    {
      "cell_type": "markdown",
      "metadata": {
        "id": "SYmT8Llf-cfx"
      },
      "source": [
        "# Ejemplos\n",
        "![examples](https://github.com/EstebanOG/Mision_TIC_2022/blob/master/Images/examples_reto4.PNG?raw=true)"
      ]
    },
    {
      "cell_type": "markdown",
      "metadata": {
        "id": "SAaxzJJj_Ye5"
      },
      "source": [
        "# Solución"
      ]
    },
    {
      "cell_type": "code",
      "metadata": {
        "colab": {
          "base_uri": "https://localhost:8080/"
        },
        "id": "yc09lpCG_R8u",
        "outputId": "3f59816f-ad7c-405e-85bd-29f301c3941c"
      },
      "source": [
        "# Libraries\n",
        "import json\n",
        "\n",
        "# Read inputs\n",
        "def read_inputs():\n",
        "  dictionary = json.loads(input())\n",
        "  categories = input().split(\" \")\n",
        "  return dictionary,categories\n",
        "\n",
        "# Get total costs and treatment categories\n",
        "def get_costs(dictionary, categories):\n",
        "  total_cost=0 \n",
        "  categories_offered = []\n",
        "  for category in categories:\n",
        "    if category in dictionary:\n",
        "      total_cost+=dictionary[category]\n",
        "      categories_offered.append(category)\n",
        "  return total_cost, categories_offered\n",
        "\n",
        "# Print outputs\n",
        "def print_result(total_cost,categories_offered):\n",
        "  print(total_cost)\n",
        "  categories_offered = ' '.join(categories_offered)\n",
        "  print(categories_offered)\n",
        "\n",
        "# Main function\n",
        "def main():\n",
        "  dictionary,categories = read_inputs()\n",
        "\n",
        "  total_cost, categories_offered = get_costs(dictionary,categories)\n",
        "\n",
        "  print_result(total_cost, categories_offered)\n",
        "  \n",
        "main()"
      ],
      "execution_count": 8,
      "outputs": [
        {
          "output_type": "stream",
          "text": [
            "{\"Q\": 287016, \"P\": 291445, \"O\": 160325, \"T\": 264069, \"R\": 278251, \"U\": 199170}\n",
            "X Y Z R T\n",
            "542320\n",
            "R T\n"
          ],
          "name": "stdout"
        }
      ]
    }
  ]
}