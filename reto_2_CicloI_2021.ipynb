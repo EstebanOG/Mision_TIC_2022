{
  "nbformat": 4,
  "nbformat_minor": 0,
  "metadata": {
    "colab": {
      "name": "reto#2-CicloI-2021.ipynb",
      "provenance": [],
      "collapsed_sections": [],
      "authorship_tag": "ABX9TyNeWLpUyMIS5Z3H+fWI743E",
      "include_colab_link": true
    },
    "kernelspec": {
      "name": "python3",
      "display_name": "Python 3"
    },
    "language_info": {
      "name": "python"
    }
  },
  "cells": [
    {
      "cell_type": "markdown",
      "metadata": {
        "id": "view-in-github",
        "colab_type": "text"
      },
      "source": [
        "<a href=\"https://colab.research.google.com/github/EstebanOG/Mision_TIC_2022/blob/master/reto_2_CicloI_2021.ipynb\" target=\"_parent\"><img src=\"https://colab.research.google.com/assets/colab-badge.svg\" alt=\"Open In Colab\"/></a>"
      ]
    },
    {
      "cell_type": "markdown",
      "metadata": {
        "id": "v7tXKmZS4eBf"
      },
      "source": [
        "# Enunciado\n",
        "\n",
        "<p align='justify'>\n",
        "Continuando con el plan piloto del Ministerio de Salud en el marco del programa de reducción del exceso de alcohol en Colombia, este piloto requiere determinar el tratamiento médico a experimentar entre dos, uno basado en el ayuno denominado Natural y simbolizado por <b>“N”</b>; y el otro basado en medicamentos denominado Artificial y simbolizado por <b>“A”</b>.\n",
        "</p>\n",
        "<p align='justify'>\n",
        "El piloto utilizara un servicio informático de un centro de investigación en abuso del alcohol ubicado en Estados Unidos. El ministerio debe enviar una determinada información para cada potencial candidato, y en respuesta el sistema envía una secuencia de letras del alfabeto inglés en mayúscula, donde cada letra representa la afinidad a una categoría de tratamientos de cada una de las personas.  \n",
        "</p>\n",
        "<p align='justify'>\n",
        "Investigaciones en Colombia muestran que, para tener una efectividad en un tratamiento, los candidatos deben tener una afinidad entre unas determinadas categorías (ejemplo ABC).\n",
        "</p>\n",
        "<p align='justify'>\n",
        "Los responsables del programa determinan el siguiente mecanismo para poder seleccionar el tratamiento a escoger: por cada persona en el resultado del centro de investigación, si su letra esta entre las categorías del tratamiento <strong>“N”</strong>, se asigna un punto a este tratamiento; e igualmente para el tratamiento <b>“A”</b>. También por cada persona, si el tratamiento <b>“A”</b> tiene mas puntos, se anota una <b>“A”</b>, si el tratamiento <b>“B”</b> tiene mas puntos, se anota <b>“B”</b>, si están empatados, se anota una <b>“E”</b>. Con esta cadena los responsables podrán seleccionar el tratamiento.\n",
        "</p>\n",
        "<p align='justify'>\n",
        "El responsable del piloto vuelve a contratarlo para que construya un programa que reciba las categorías para cada uno de los dos tratamientos (<b>“N”</b> y <b>“A”</b>), así como una secuencia de resultados del programa del centro de investigación; y que retorne la secuencia de anotaciones para esas entradas.\n",
        "</p>\n",
        "\n",
        "**Entrada**\n",
        "<p align='justify'>\n",
        "Tres cadenas de caracteres en tres líneas separadas que representan:\n",
        "</p>\n",
        "\n",
        "\n",
        "1. Las letras que representan las categorías para el tratamiento “N”,\n",
        "2. Las letras que representan las categorías para el tratamiento “A”,\n",
        "3.  Una secuencia de letras que simulan la salida del servicio del centro de investigación.\n",
        "\n",
        "\n",
        "**Salida**\n",
        "<p align='justify'>\n",
        "Una cadena de caracteres sin separación que indica las anotaciones hechas para determinar el mejor tratamiento.\n",
        "</p>\n",
        " \n",
        " "
      ]
    },
    {
      "cell_type": "markdown",
      "metadata": {
        "id": "HMZZneRU6rgi"
      },
      "source": [
        "# Ejemplos\n",
        "<center>\n",
        "<img src=\"https://github.com/EstebanOG/Mision_TIC_2022/blob/master/Images/examples_reto2.PNG?raw=true\">\n",
        "\n",
        "\n",
        "</center>\n",
        "\n",
        "![examples](https://github.com/EstebanOG/Mision_TIC_2022/blob/master/Images/examples_reto2.PNG?raw=true\")"
      ]
    },
    {
      "cell_type": "markdown",
      "metadata": {
        "id": "lvUA1gE15Hal"
      },
      "source": [
        "<center>\n",
        "<a href=\"https://github.com/EstebanOG/Mision_TIC_2022/blob/master/Images/examples_reto2.PNG\">Examples</a>\n",
        "</center>"
      ]
    },
    {
      "cell_type": "markdown",
      "metadata": {
        "id": "V3ifWr-77izX"
      },
      "source": [
        "# Solución"
      ]
    },
    {
      "cell_type": "code",
      "metadata": {
        "colab": {
          "base_uri": "https://localhost:8080/"
        },
        "id": "j29DIbrz7pEG",
        "outputId": "b029fda3-0598-45c5-c722-d660a5f992a6"
      },
      "source": [
        "# Declaration of varials\n",
        "category_n = []\n",
        "category_a = []\n",
        "\n",
        "\n",
        "# Declaration of function\n",
        "def get_treatment(category_a, category_n, research_center_report):\n",
        "  points_category_n = 0\n",
        "  points_category_a = 0\n",
        "  treatment_solution = \"\"\n",
        "  for annotation in research_center_report:\n",
        "    if annotation in category_n:\n",
        "      points_category_n += 1\n",
        "    if annotation in category_a:\n",
        "      points_category_a += 1\n",
        "  \n",
        "    if points_category_a > points_category_n:\n",
        "      treatment_solution += \"A\"\n",
        "    elif points_category_n > points_category_a:\n",
        "      treatment_solution += \"N\"\n",
        "    else:\n",
        "      treatment_solution += \"E\"\n",
        "  \n",
        "  return treatment_solution\n",
        "\n",
        "# Main function\n",
        "def main():\n",
        "  # Read inputs\n",
        "  category_n = input()\n",
        "  category_a = input()\n",
        "  research_center_report = input()\n",
        "\n",
        "  # Call to function and show solution\n",
        "  print(get_treatment(category_a, category_n, research_center_report))\n",
        "\n",
        "main()"
      ],
      "execution_count": null,
      "outputs": [
        {
          "output_type": "stream",
          "text": [
            "WNRF\n",
            "XAKG\n",
            "EBNELLUKXHHSAWDIZYEZOKZPAZZTYD\n",
            "EENNNNNEAAAAAAAAAAAAAAAAAAAAAA\n"
          ],
          "name": "stdout"
        }
      ]
    }
  ]
}